{
 "cells": [
  {
   "cell_type": "code",
   "execution_count": 3,
   "id": "27dcde85",
   "metadata": {},
   "outputs": [
    {
     "name": "stdout",
     "output_type": "stream",
     "text": [
      "Time taken for 1024*1024 matrix multiplication:  78.37390899658203 milliseconds\n"
     ]
    }
   ],
   "source": [
    "import numpy as np\n",
    "\n",
    "# Matrix A: 1024*1024, normal distribution\n",
    "A = np.random.normal(0, 100, (1024, 1024))\n",
    "# Matrix B: 1024*1024, normal distribution\n",
    "B = np.random.normal(0, 100, (1024, 1024))\n",
    "\n",
    "# stop watch\n",
    "import time\n",
    "start = time.time()\n",
    "# Matrix multiplication\n",
    "C = np.dot(A, B)\n",
    "end = time.time()\n",
    "# milliseconds\n",
    "print(\"Time taken for 1024*1024 matrix multiplication: \", (end - start) * 1000, \"milliseconds\")"
   ]
  }
 ],
 "metadata": {
  "kernelspec": {
   "display_name": "base",
   "language": "python",
   "name": "python3"
  },
  "language_info": {
   "codemirror_mode": {
    "name": "ipython",
    "version": 3
   },
   "file_extension": ".py",
   "mimetype": "text/x-python",
   "name": "python",
   "nbconvert_exporter": "python",
   "pygments_lexer": "ipython3",
   "version": "3.10.12"
  }
 },
 "nbformat": 4,
 "nbformat_minor": 5
}
